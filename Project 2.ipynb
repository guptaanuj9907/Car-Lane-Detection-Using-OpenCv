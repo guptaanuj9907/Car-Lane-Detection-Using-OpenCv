{
 "cells": [
  {
   "cell_type": "code",
   "execution_count": 1,
   "metadata": {},
   "outputs": [],
   "source": [
    "import numpy as np\n",
    "import cv2\n",
    "import matplotlib.pyplot as plt"
   ]
  },
  {
   "cell_type": "code",
   "execution_count": 2,
   "metadata": {},
   "outputs": [
    {
     "ename": "error",
     "evalue": "OpenCV(4.3.0) C:\\projects\\opencv-python\\opencv\\modules\\imgproc\\src\\color.cpp:182: error: (-215:Assertion failed) !_src.empty() in function 'cv::cvtColor'\n",
     "output_type": "error",
     "traceback": [
      "\u001b[1;31m---------------------------------------------------------------------------\u001b[0m",
      "\u001b[1;31merror\u001b[0m                                     Traceback (most recent call last)",
      "\u001b[1;32m<ipython-input-2-b6296fc26202>\u001b[0m in \u001b[0;36m<module>\u001b[1;34m\u001b[0m\n\u001b[0;32m     40\u001b[0m \u001b[1;32mwhile\u001b[0m \u001b[1;32mTrue\u001b[0m\u001b[1;33m:\u001b[0m\u001b[1;33m\u001b[0m\u001b[1;33m\u001b[0m\u001b[0m\n\u001b[0;32m     41\u001b[0m     \u001b[0mret\u001b[0m\u001b[1;33m,\u001b[0m\u001b[0mframe\u001b[0m\u001b[1;33m=\u001b[0m\u001b[0mcap\u001b[0m\u001b[1;33m.\u001b[0m\u001b[0mread\u001b[0m\u001b[1;33m(\u001b[0m\u001b[1;33m)\u001b[0m\u001b[1;33m\u001b[0m\u001b[1;33m\u001b[0m\u001b[0m\n\u001b[1;32m---> 42\u001b[1;33m     \u001b[0mcann\u001b[0m\u001b[1;33m=\u001b[0m\u001b[0mcanny\u001b[0m\u001b[1;33m(\u001b[0m\u001b[0mframe\u001b[0m\u001b[1;33m)\u001b[0m\u001b[1;33m\u001b[0m\u001b[1;33m\u001b[0m\u001b[0m\n\u001b[0m\u001b[0;32m     43\u001b[0m     \u001b[0mroi\u001b[0m\u001b[1;33m=\u001b[0m\u001b[0mROI\u001b[0m\u001b[1;33m(\u001b[0m\u001b[0mcann\u001b[0m\u001b[1;33m)\u001b[0m\u001b[1;33m\u001b[0m\u001b[1;33m\u001b[0m\u001b[0m\n\u001b[0;32m     44\u001b[0m \u001b[1;31m#     cv2.imshow(\"img\",roi)\u001b[0m\u001b[1;33m\u001b[0m\u001b[1;33m\u001b[0m\u001b[1;33m\u001b[0m\u001b[0m\n",
      "\u001b[1;32m<ipython-input-2-b6296fc26202>\u001b[0m in \u001b[0;36mcanny\u001b[1;34m(image)\u001b[0m\n\u001b[0;32m      5\u001b[0m \u001b[1;31m#####################################################\u001b[0m\u001b[1;33m\u001b[0m\u001b[1;33m\u001b[0m\u001b[1;33m\u001b[0m\u001b[0m\n\u001b[0;32m      6\u001b[0m \u001b[1;32mdef\u001b[0m \u001b[0mcanny\u001b[0m\u001b[1;33m(\u001b[0m\u001b[0mimage\u001b[0m\u001b[1;33m)\u001b[0m\u001b[1;33m:\u001b[0m\u001b[1;33m\u001b[0m\u001b[1;33m\u001b[0m\u001b[0m\n\u001b[1;32m----> 7\u001b[1;33m     \u001b[0mgrey\u001b[0m\u001b[1;33m=\u001b[0m\u001b[0mcv2\u001b[0m\u001b[1;33m.\u001b[0m\u001b[0mcvtColor\u001b[0m\u001b[1;33m(\u001b[0m\u001b[0mimage\u001b[0m\u001b[1;33m,\u001b[0m\u001b[0mcv2\u001b[0m\u001b[1;33m.\u001b[0m\u001b[0mCOLOR_BGR2GRAY\u001b[0m\u001b[1;33m)\u001b[0m\u001b[1;33m\u001b[0m\u001b[1;33m\u001b[0m\u001b[0m\n\u001b[0m\u001b[0;32m      8\u001b[0m     \u001b[0mblur\u001b[0m\u001b[1;33m=\u001b[0m\u001b[0mcv2\u001b[0m\u001b[1;33m.\u001b[0m\u001b[0mGaussianBlur\u001b[0m\u001b[1;33m(\u001b[0m\u001b[0mgrey\u001b[0m\u001b[1;33m,\u001b[0m\u001b[1;33m(\u001b[0m\u001b[1;36m5\u001b[0m\u001b[1;33m,\u001b[0m\u001b[1;36m5\u001b[0m\u001b[1;33m)\u001b[0m\u001b[1;33m,\u001b[0m\u001b[1;36m1\u001b[0m\u001b[1;33m)\u001b[0m\u001b[1;33m\u001b[0m\u001b[1;33m\u001b[0m\u001b[0m\n\u001b[0;32m      9\u001b[0m \u001b[1;33m\u001b[0m\u001b[0m\n",
      "\u001b[1;31merror\u001b[0m: OpenCV(4.3.0) C:\\projects\\opencv-python\\opencv\\modules\\imgproc\\src\\color.cpp:182: error: (-215:Assertion failed) !_src.empty() in function 'cv::cvtColor'\n"
     ]
    }
   ],
   "source": [
    "cap=cv2.VideoCapture(\"project_video.mp4\")\n",
    "# ret,frame=cap.read()\n",
    "# cv2.imshow(\"img\",frame)\n",
    "# img=np.copy(frame)\n",
    "#####################################################\n",
    "def canny(image):\n",
    "    grey=cv2.cvtColor(image,cv2.COLOR_BGR2GRAY)\n",
    "    blur=cv2.GaussianBlur(grey,(5,5),1)\n",
    "    \n",
    "    canny=cv2.Canny(blur,50,120)\n",
    "    dia=cv2.dilate(canny,(9,9))\n",
    "    er=cv2.erode(dia,(5,5))\n",
    "    return  er\n",
    "#####################################################\n",
    "def ROI(image):\n",
    "    black=np.zeros_like(image)\n",
    "    polygon=np.array([[(290,image.shape[0]),(1260,image.shape[0]),(590,410)]])\n",
    "    cv2.fillConvexPoly(black,polygon,255)\n",
    "    masked=cv2.bitwise_and(image,black)\n",
    "    return  masked\n",
    "######################################################### \n",
    "def hough(image,lines):\n",
    "    if lines is not None:\n",
    "        for lin in lines:\n",
    "            x1,y1,x2,y2=lin[0]\n",
    "            cv2.line(image,(x1,y1),(x2,y2),(0,255,0),5)\n",
    "    return image\n",
    "\n",
    "# cann=canny(img)\n",
    "# roi=ROI(cann)\n",
    "# cv2.imshow(\"img\",roi)\n",
    "# cv2.imshow(\"img\",roi)\n",
    "# plt.figure(figsize=(25,25))\n",
    "# plt.imshow(cann)\n",
    "# lines=cv2.HoughLinesP(roi,2,np.pi/180,50,minLineLength=10, maxLineGap=100)\n",
    "# h=hough(img,lines)\n",
    "# cv2.imshow(\"img\",h)\n",
    "\n",
    "\n",
    "while True:\n",
    "    ret,frame=cap.read()\n",
    "    cann=canny(frame)\n",
    "    roi=ROI(cann)\n",
    "#     cv2.imshow(\"img\",roi)\n",
    "    # cv2.imshow(\"img\",roi)\n",
    "    # plt.figure(figsize=(25,25))\n",
    "    # plt.imshow(cann)\n",
    "    lines=cv2.HoughLinesP(roi,2,np.pi/180,50,minLineLength=10, maxLineGap=100)\n",
    "    h=hough(frame,lines)\n",
    "    cv2.imshow(\"img\",h)\n",
    "    if cv2.waitKey(1)==13:\n",
    "        break\n",
    "cap.release()\n",
    "# cv2.waitKey(0)\n",
    "cv2.destroyAllWindows()"
   ]
  },
  {
   "cell_type": "code",
   "execution_count": 76,
   "metadata": {},
   "outputs": [],
   "source": [
    "# cap=cv2.VideoCapture(\"project_video.mp4\")\n",
    "# while True:\n",
    "#     ret,frame=cap.read()\n",
    "#     cv2.imshow(\"i\",frame)\n",
    "#     if cv2.waitKey(1)==13:\n",
    "#         break\n",
    "# cap.release()\n",
    "# # cv2.waitKey(0)\n",
    "# cv2.destroyAllWindows()"
   ]
  },
  {
   "cell_type": "code",
   "execution_count": null,
   "metadata": {},
   "outputs": [],
   "source": []
  }
 ],
 "metadata": {
  "kernelspec": {
   "display_name": "Python 3",
   "language": "python",
   "name": "python3"
  },
  "language_info": {
   "codemirror_mode": {
    "name": "ipython",
    "version": 3
   },
   "file_extension": ".py",
   "mimetype": "text/x-python",
   "name": "python",
   "nbconvert_exporter": "python",
   "pygments_lexer": "ipython3",
   "version": "3.7.5"
  }
 },
 "nbformat": 4,
 "nbformat_minor": 4
}
