{
 "cells": [
  {
   "cell_type": "code",
   "execution_count": 1,
   "metadata": {},
   "outputs": [],
   "source": [
    "import cv2\n",
    "import numpy as np\n",
    "import matplotlib.pyplot as plt"
   ]
  },
  {
   "cell_type": "raw",
   "metadata": {},
   "source": [
    "1:Img ko apn pehle grey,blur,canny filtering kiy\n",
    "2:but canny filtering ke bad apne ko jo regio of intrest h wo chahiy\n",
    "    to uske liy apne ek traingle bnae black img me white colour ka\n",
    "    or phr usko bitwise AND se ROI ka img le liy\n",
    "3:ROI img iska use krke apn black img me Hough line bnae\n",
    "    phr uske bd apn usko main img or hough img ko add kr diy."
   ]
  },
  {
   "cell_type": "code",
   "execution_count": 8,
   "metadata": {},
   "outputs": [],
   "source": [
    "\n",
    "###############################################################\n",
    "def canny(image):\n",
    "    grey=cv2.cvtColor(image,cv2.COLOR_RGB2GRAY)\n",
    "    blur=cv2.GaussianBlur(grey,(5,5),0)\n",
    "    canny=cv2.Canny(blur,50,150)\n",
    "    return canny\n",
    "##################################################################\n",
    "def ROI(image):\n",
    "    polygon=np.zeros_like(image)\n",
    "    h=image.shape[0]\n",
    "    w=image.shape[1]\n",
    "    points=np.array([[(200,h),(1110,h),(550,250)]])\n",
    "    cv2.fillPoly(polygon,points,255)\n",
    "    masked_img=cv2.bitwise_and(image,polygon)\n",
    "    return masked_img\n",
    "################################################################    \n",
    "def display_line(image,lines):\n",
    "#     black=np.zeros_like(image)\n",
    "    if lines is not None:\n",
    "        for lin in lines:\n",
    "            x1,y1,x2,y2=lin[0]\n",
    "            cv2.line(image,(x1,y1),(x2,y2),(0,255,0),5)\n",
    "#             overlap=cv2.addWeighted(img,0.8,black,1,0)\n",
    "    return image\n",
    "################################################################   \n",
    "\n",
    "# img=plt.imread(\"road.jpg\")\n",
    "# lane_img=np.copy(img)\n",
    "\n",
    "# canny=canny(lane_img)\n",
    "# roi=ROI(canny)\n",
    "# cv2.imshow(\"img\",roi)\n",
    "# # plt.imshow(canny)\n",
    "# lines=cv2.HoughLinesP(roi,2,np.pi/180,100,minLineLength=40, maxLineGap=5)\n",
    "# display_huff_line=display_line(lane_img,lines)\n",
    "# cv2.imshow(\"img\",display_huff_line)\n",
    "\n",
    "\n",
    "cap=cv2.VideoCapture(\"road2.mp4\")\n",
    "while True:\n",
    "    ret,frame=cap.read()\n",
    "    cann=canny(frame)\n",
    "    roi=ROI(cann)\n",
    "#   cv2.imshow(\"img\",roi)\n",
    "    # plt.imshow(canny)\n",
    "    lines=cv2.HoughLinesP(roi,2,np.pi/180,100,minLineLength=40, maxLineGap=100)\n",
    "    display_huff_line=display_line(frame,lines)\n",
    "    cv2.imshow(\"img\",display_huff_line)\n",
    "    if cv2.waitKey(1)==13:\n",
    "        break\n",
    "cap.release()\n",
    "# cv2.waitKey(0)\n",
    "cv2.destroyAllWindows()"
   ]
  },
  {
   "cell_type": "code",
   "execution_count": null,
   "metadata": {},
   "outputs": [],
   "source": []
  },
  {
   "cell_type": "code",
   "execution_count": null,
   "metadata": {},
   "outputs": [],
   "source": []
  }
 ],
 "metadata": {
  "kernelspec": {
   "display_name": "Python 3",
   "language": "python",
   "name": "python3"
  },
  "language_info": {
   "codemirror_mode": {
    "name": "ipython",
    "version": 3
   },
   "file_extension": ".py",
   "mimetype": "text/x-python",
   "name": "python",
   "nbconvert_exporter": "python",
   "pygments_lexer": "ipython3",
   "version": "3.7.5"
  }
 },
 "nbformat": 4,
 "nbformat_minor": 4
}
